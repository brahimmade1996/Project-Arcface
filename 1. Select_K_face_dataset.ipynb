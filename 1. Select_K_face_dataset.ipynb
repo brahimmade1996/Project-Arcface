{
 "cells": [
  {
   "cell_type": "markdown",
   "metadata": {},
   "source": [
    "# Metge K-face dataset\n",
    "\n",
    "- http://www.aihub.or.kr/aidata/73\n",
    "\n",
    "> 데이터 구조\n",
    "- 1. 포즈 20종 (C1 ~ C20)\n",
    "- 2. 조명 30종 (L1 ~ L30):L1(Lux1000)만 사용\n",
    "- 3. 액세서리 6종 (S001 ~ S006): S001(보통)만 사용\n",
    "- 4. 표정 3종 (E01 ~ E03)"
   ]
  },
  {
   "cell_type": "code",
   "execution_count": 115,
   "metadata": {},
   "outputs": [],
   "source": [
    "import os\n",
    "from imutils import paths\n",
    "import random\n",
    "import shutil\n",
    "from tqdm import tqdm"
   ]
  },
  {
   "cell_type": "code",
   "execution_count": 52,
   "metadata": {},
   "outputs": [
    {
     "data": {
      "text/plain": [
       "'C:/Users/shiney/Documents/GitHub/Project-Arcface/data/old_path'"
      ]
     },
     "execution_count": 52,
     "metadata": {},
     "output_type": "execute_result"
    }
   ],
   "source": [
    "old_path  = os.path.join(os.getcwd(), 'data/old_path').replace('\\\\','/')\n",
    "old_path"
   ]
  },
  {
   "cell_type": "code",
   "execution_count": 72,
   "metadata": {},
   "outputs": [
    {
     "name": "stdout",
     "output_type": "stream",
     "text": [
      "[WinError 183] 파일이 이미 있으므로 만들 수 없습니다: 'C:/Users/shiney/Documents/GitHub/Project-Arcface/data/new_path'\n"
     ]
    }
   ],
   "source": [
    "new_path =os.path.join(os.getcwd(), 'data/old_path').replace('old','new').replace('\\\\','/')\n",
    "try:\n",
    "    os.mkdir(new_path)\n",
    "except Exception as err:\n",
    "    print(err)\n",
    "    "
   ]
  },
  {
   "cell_type": "code",
   "execution_count": 116,
   "metadata": {},
   "outputs": [
    {
     "name": "stderr",
     "output_type": "stream",
     "text": [
      "\r",
      "  0%|                                                                                            | 0/1 [00:00<?, ?it/s]"
     ]
    },
    {
     "name": "stdout",
     "output_type": "stream",
     "text": [
      "[WinError 183] 파일이 이미 있으므로 만들 수 없습니다: 'C:/Users/shiney/Documents/GitHub/Project-Arcface/data/new_path\\\\19062421'\n"
     ]
    },
    {
     "name": "stderr",
     "output_type": "stream",
     "text": [
      "100%|████████████████████████████████████████████████████████████████████████████████████| 1/1 [00:00<00:00,  2.83it/s]\n"
     ]
    }
   ],
   "source": [
    "# 폴더 내 모든 이미지파일 가져오기\n",
    "\n",
    "for people_name in tqdm(os.listdir(old_path)):\n",
    "    select_path = people_name +'/S001/L1'\n",
    "    people_dir_path=os.path.join(old_path, select_path)\n",
    "    \n",
    "    img_paths = list(paths.list_images(people_dir_path))\n",
    "    new_path = 'C:/Users/shiney/Documents/GitHub/Project-Arcface/data/new_path'\n",
    "    try:\n",
    "        new_people_dir_path = os.path.join(new_path, people_name).replace('/S001/L1)','')\n",
    "        os.mkdir(new_poeple_dir_path)\n",
    "    except Exception as err:\n",
    "        print(err)\n",
    "    for img_path in img_paths:\n",
    "        img_name = os.path.split(img_path)[1]\n",
    "        E_dir = os.path.split(os.path.split(img_path)[0])[1]\n",
    "        new_img_name = E_dir + '_'+ img_name\n",
    "        new_img_path = os.path.join(new_people_dir_path, new_img_name).replace('\\\\','/')\n",
    "        shutil.copy(img_path, new_img_path)\n"
   ]
  },
  {
   "cell_type": "code",
   "execution_count": null,
   "metadata": {},
   "outputs": [],
   "source": []
  }
 ],
 "metadata": {
  "kernelspec": {
   "display_name": "Python 3",
   "language": "python",
   "name": "python3"
  },
  "language_info": {
   "codemirror_mode": {
    "name": "ipython",
    "version": 3
   },
   "file_extension": ".py",
   "mimetype": "text/x-python",
   "name": "python",
   "nbconvert_exporter": "python",
   "pygments_lexer": "ipython3",
   "version": "3.7.6"
  },
  "toc": {
   "base_numbering": 1,
   "nav_menu": {},
   "number_sections": false,
   "sideBar": true,
   "skip_h1_title": false,
   "title_cell": "Table of Contents",
   "title_sidebar": "Contents",
   "toc_cell": false,
   "toc_position": {},
   "toc_section_display": true,
   "toc_window_display": false
  }
 },
 "nbformat": 4,
 "nbformat_minor": 2
}
