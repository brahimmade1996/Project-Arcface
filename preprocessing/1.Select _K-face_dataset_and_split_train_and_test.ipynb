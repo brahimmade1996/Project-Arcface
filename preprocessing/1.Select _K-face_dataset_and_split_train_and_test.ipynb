{
 "cells": [
  {
   "cell_type": "markdown",
   "metadata": {},
   "source": [
    "# Select K-face dataset and split train and test\n",
    "\n",
    "- http://www.aihub.or.kr/aidata/73\n",
    "\n",
    "> 데이터 구조\n",
    "- 포즈 20종 (C1 ~ C20)\n",
    "- 조명 30종 (L1 ~ L30):L1(Lux1000)만 사용\n",
    "- 액세서리 6종 (S001 ~ S006): S001(보통)만 사용\n",
    "- 표정 3종 (E01 ~ E03)\n",
    "\n",
    "> train and test\n",
    "- train: random 40장\n",
    "- test: random 20장"
   ]
  },
  {
   "cell_type": "code",
   "execution_count": 122,
   "metadata": {},
   "outputs": [],
   "source": [
    "import os\n",
    "from imutils import paths\n",
    "import random\n",
    "import shutil\n",
    "from tqdm import tqdm"
   ]
  },
  {
   "cell_type": "code",
   "execution_count": 127,
   "metadata": {},
   "outputs": [
    {
     "data": {
      "text/plain": [
       "'C:/Users/shiney/Documents/GitHub/Project-Arcface/data/k-face/old_path'"
      ]
     },
     "execution_count": 127,
     "metadata": {},
     "output_type": "execute_result"
    }
   ],
   "source": [
    "old_path  = os.path.join(os.getcwd(), 'data/k-face/old_path').replace('\\\\','/')\n",
    "old_path"
   ]
  },
  {
   "cell_type": "code",
   "execution_count": 133,
   "metadata": {},
   "outputs": [],
   "source": [
    "new_path =os.path.join(os.getcwd(), 'data/k-face/old_path').replace('old','new').replace('\\\\','/')\n",
    "try:\n",
    "    os.mkdir(new_path)\n",
    "    os.mkdir(os.path.join(new_path, 'train'))\n",
    "    os.mkdir(os.path.join(new_path, 'test'))\n",
    "\n",
    "except Exception as err:\n",
    "    print(err)\n",
    "    "
   ]
  },
  {
   "cell_type": "code",
   "execution_count": 162,
   "metadata": {},
   "outputs": [
    {
     "data": {
      "text/plain": [
       "[0, 8, 9, 2, 6, 1, 4, 7, 3, 5]"
      ]
     },
     "execution_count": 162,
     "metadata": {},
     "output_type": "execute_result"
    }
   ],
   "source": [
    "a = list(range(10))\n",
    "a\n",
    "\n",
    "random.shuffle(a)\n",
    "a"
   ]
  },
  {
   "cell_type": "code",
   "execution_count": 164,
   "metadata": {},
   "outputs": [
    {
     "name": "stderr",
     "output_type": "stream",
     "text": [
      "\r",
      "  0%|                                                                                            | 0/1 [00:00<?, ?it/s]"
     ]
    },
    {
     "name": "stdout",
     "output_type": "stream",
     "text": [
      "C:/Users/shiney/Documents/GitHub/Project-Arcface/data/k-face/new_path/train/19062421\n",
      "C:/Users/shiney/Documents/GitHub/Project-Arcface/data/k-face/new_path/test/19062421\n",
      "C:/Users/shiney/Documents/GitHub/Project-Arcface/data/k-face/old_path\\19062421/S001/L1\\E03\\C1.jpg\n",
      "C:/Users/shiney/Documents/GitHub/Project-Arcface/data/k-face/old_path\\19062421/S001/L1\\E01\\C20.jpg\n",
      "C:/Users/shiney/Documents/GitHub/Project-Arcface/data/k-face/old_path\\19062421/S001/L1\\E03\\C9.jpg\n",
      "C:/Users/shiney/Documents/GitHub/Project-Arcface/data/k-face/old_path\\19062421/S001/L1\\E01\\C16.jpg\n",
      "C:/Users/shiney/Documents/GitHub/Project-Arcface/data/k-face/old_path\\19062421/S001/L1\\E03\\C12.jpg\n",
      "C:/Users/shiney/Documents/GitHub/Project-Arcface/data/k-face/old_path\\19062421/S001/L1\\E02\\C10.jpg\n",
      "C:/Users/shiney/Documents/GitHub/Project-Arcface/data/k-face/old_path\\19062421/S001/L1\\E01\\C15.jpg\n",
      "C:/Users/shiney/Documents/GitHub/Project-Arcface/data/k-face/old_path\\19062421/S001/L1\\E01\\C14.jpg\n",
      "C:/Users/shiney/Documents/GitHub/Project-Arcface/data/k-face/old_path\\19062421/S001/L1\\E02\\C13.jpg\n",
      "C:/Users/shiney/Documents/GitHub/Project-Arcface/data/k-face/old_path\\19062421/S001/L1\\E03\\C5.jpg\n",
      "C:/Users/shiney/Documents/GitHub/Project-Arcface/data/k-face/old_path\\19062421/S001/L1\\E03\\C20.jpg\n",
      "C:/Users/shiney/Documents/GitHub/Project-Arcface/data/k-face/old_path\\19062421/S001/L1\\E02\\C11.jpg\n",
      "C:/Users/shiney/Documents/GitHub/Project-Arcface/data/k-face/old_path\\19062421/S001/L1\\E01\\C18.jpg\n",
      "C:/Users/shiney/Documents/GitHub/Project-Arcface/data/k-face/old_path\\19062421/S001/L1\\E02\\C8.jpg\n",
      "C:/Users/shiney/Documents/GitHub/Project-Arcface/data/k-face/old_path\\19062421/S001/L1\\E02\\C15.jpg\n",
      "C:/Users/shiney/Documents/GitHub/Project-Arcface/data/k-face/old_path\\19062421/S001/L1\\E01\\C2.jpg\n",
      "C:/Users/shiney/Documents/GitHub/Project-Arcface/data/k-face/old_path\\19062421/S001/L1\\E03\\C18.jpg\n",
      "C:/Users/shiney/Documents/GitHub/Project-Arcface/data/k-face/old_path\\19062421/S001/L1\\E02\\C19.jpg\n",
      "C:/Users/shiney/Documents/GitHub/Project-Arcface/data/k-face/old_path\\19062421/S001/L1\\E02\\C7.jpg\n",
      "C:/Users/shiney/Documents/GitHub/Project-Arcface/data/k-face/old_path\\19062421/S001/L1\\E03\\C17.jpg\n",
      "C:/Users/shiney/Documents/GitHub/Project-Arcface/data/k-face/old_path\\19062421/S001/L1\\E01\\C13.jpg\n",
      "C:/Users/shiney/Documents/GitHub/Project-Arcface/data/k-face/old_path\\19062421/S001/L1\\E02\\C17.jpg\n",
      "C:/Users/shiney/Documents/GitHub/Project-Arcface/data/k-face/old_path\\19062421/S001/L1\\E02\\C6.jpg\n",
      "C:/Users/shiney/Documents/GitHub/Project-Arcface/data/k-face/old_path\\19062421/S001/L1\\E02\\C14.jpg\n",
      "C:/Users/shiney/Documents/GitHub/Project-Arcface/data/k-face/old_path\\19062421/S001/L1\\E02\\C3.jpg\n",
      "C:/Users/shiney/Documents/GitHub/Project-Arcface/data/k-face/old_path\\19062421/S001/L1\\E02\\C5.jpg\n",
      "C:/Users/shiney/Documents/GitHub/Project-Arcface/data/k-face/old_path\\19062421/S001/L1\\E01\\C7.jpg\n",
      "C:/Users/shiney/Documents/GitHub/Project-Arcface/data/k-face/old_path\\19062421/S001/L1\\E01\\C6.jpg\n",
      "C:/Users/shiney/Documents/GitHub/Project-Arcface/data/k-face/old_path\\19062421/S001/L1\\E02\\C20.jpg\n",
      "C:/Users/shiney/Documents/GitHub/Project-Arcface/data/k-face/old_path\\19062421/S001/L1\\E01\\C11.jpg\n",
      "C:/Users/shiney/Documents/GitHub/Project-Arcface/data/k-face/old_path\\19062421/S001/L1\\E01\\C8.jpg\n",
      "C:/Users/shiney/Documents/GitHub/Project-Arcface/data/k-face/old_path\\19062421/S001/L1\\E03\\C14.jpg\n",
      "C:/Users/shiney/Documents/GitHub/Project-Arcface/data/k-face/old_path\\19062421/S001/L1\\E01\\C4.jpg\n",
      "C:/Users/shiney/Documents/GitHub/Project-Arcface/data/k-face/old_path\\19062421/S001/L1\\E01\\C10.jpg\n",
      "C:/Users/shiney/Documents/GitHub/Project-Arcface/data/k-face/old_path\\19062421/S001/L1\\E03\\C3.jpg\n",
      "C:/Users/shiney/Documents/GitHub/Project-Arcface/data/k-face/old_path\\19062421/S001/L1\\E01\\C9.jpg\n",
      "C:/Users/shiney/Documents/GitHub/Project-Arcface/data/k-face/old_path\\19062421/S001/L1\\E01\\C19.jpg\n",
      "C:/Users/shiney/Documents/GitHub/Project-Arcface/data/k-face/old_path\\19062421/S001/L1\\E01\\C1.jpg\n",
      "C:/Users/shiney/Documents/GitHub/Project-Arcface/data/k-face/old_path\\19062421/S001/L1\\E03\\C4.jpg\n",
      "C:/Users/shiney/Documents/GitHub/Project-Arcface/data/k-face/old_path\\19062421/S001/L1\\E03\\C16.jpg\n",
      "C:/Users/shiney/Documents/GitHub/Project-Arcface/data/k-face/old_path\\19062421/S001/L1\\E03\\C10.jpg\n",
      "C:/Users/shiney/Documents/GitHub/Project-Arcface/data/k-face/old_path\\19062421/S001/L1\\E02\\C1.jpg\n",
      "C:/Users/shiney/Documents/GitHub/Project-Arcface/data/k-face/old_path\\19062421/S001/L1\\E03\\C7.jpg\n",
      "C:/Users/shiney/Documents/GitHub/Project-Arcface/data/k-face/old_path\\19062421/S001/L1\\E03\\C6.jpg\n",
      "C:/Users/shiney/Documents/GitHub/Project-Arcface/data/k-face/old_path\\19062421/S001/L1\\E03\\C13.jpg\n",
      "C:/Users/shiney/Documents/GitHub/Project-Arcface/data/k-face/old_path\\19062421/S001/L1\\E02\\C9.jpg\n",
      "C:/Users/shiney/Documents/GitHub/Project-Arcface/data/k-face/old_path\\19062421/S001/L1\\E03\\C8.jpg\n",
      "C:/Users/shiney/Documents/GitHub/Project-Arcface/data/k-face/old_path\\19062421/S001/L1\\E03\\C19.jpg\n",
      "C:/Users/shiney/Documents/GitHub/Project-Arcface/data/k-face/old_path\\19062421/S001/L1\\E01\\C3.jpg\n",
      "C:/Users/shiney/Documents/GitHub/Project-Arcface/data/k-face/old_path\\19062421/S001/L1\\E01\\C17.jpg\n",
      "C:/Users/shiney/Documents/GitHub/Project-Arcface/data/k-face/old_path\\19062421/S001/L1\\E03\\C11.jpg\n",
      "C:/Users/shiney/Documents/GitHub/Project-Arcface/data/k-face/old_path\\19062421/S001/L1\\E02\\C12.jpg\n",
      "C:/Users/shiney/Documents/GitHub/Project-Arcface/data/k-face/old_path\\19062421/S001/L1\\E03\\C2.jpg\n",
      "C:/Users/shiney/Documents/GitHub/Project-Arcface/data/k-face/old_path\\19062421/S001/L1\\E03\\C15.jpg"
     ]
    },
    {
     "name": "stderr",
     "output_type": "stream",
     "text": [
      "100%|████████████████████████████████████████████████████████████████████████████████████| 1/1 [00:00<00:00,  2.21it/s]"
     ]
    },
    {
     "name": "stdout",
     "output_type": "stream",
     "text": [
      "\n",
      "C:/Users/shiney/Documents/GitHub/Project-Arcface/data/k-face/old_path\\19062421/S001/L1\\E02\\C18.jpg\n",
      "C:/Users/shiney/Documents/GitHub/Project-Arcface/data/k-face/old_path\\19062421/S001/L1\\E02\\C16.jpg\n",
      "C:/Users/shiney/Documents/GitHub/Project-Arcface/data/k-face/old_path\\19062421/S001/L1\\E01\\C5.jpg\n",
      "C:/Users/shiney/Documents/GitHub/Project-Arcface/data/k-face/old_path\\19062421/S001/L1\\E02\\C4.jpg\n",
      "C:/Users/shiney/Documents/GitHub/Project-Arcface/data/k-face/old_path\\19062421/S001/L1\\E01\\C12.jpg\n",
      "C:/Users/shiney/Documents/GitHub/Project-Arcface/data/k-face/old_path\\19062421/S001/L1\\E02\\C2.jpg\n"
     ]
    },
    {
     "name": "stderr",
     "output_type": "stream",
     "text": [
      "\n"
     ]
    }
   ],
   "source": [
    "# 폴더 내 모든 이미지파일 가져오기\n",
    "\n",
    "for people_name in tqdm(os.listdir(old_path)):\n",
    "    select_path = people_name +'/S001/L1'\n",
    "    people_dir_path=os.path.join(old_path, select_path)\n",
    "    \n",
    "    img_paths = list(paths.list_images(people_dir_path))\n",
    "    random.shuffle(img_paths)\n",
    "    \n",
    "    train_path = 'C:/Users/shiney/Documents/GitHub/Project-Arcface/data/k-face/new_path/train/'\n",
    "    test_path = 'C:/Users/shiney/Documents/GitHub/Project-Arcface/data/k-face/new_path/test/'\n",
    "\n",
    "    new_people_dir_train = os.path.join(train_path, people_name).replace('/S001/L1','').replace('\\\\','/')\n",
    "    new_people_dir_test = os.path.join(test_path, people_name).replace('/S001/L1','').replace('\\\\','/')\n",
    "    print(new_people_dir_train)\n",
    "    print(new_people_dir_test)\n",
    "\n",
    "    try:\n",
    "        os.mkdir(new_people_dir_train)\n",
    "        os.mkdir(new_people_dir_test)\n",
    "\n",
    "    except Exception as err:\n",
    "        print(err)\n",
    "        \n",
    "    for i,img_path in enumerate(img_paths):\n",
    "        print(img_path)\n",
    "\n",
    "        img_name = os.path.split(img_path)[1]\n",
    "        E_dir = os.path.split(os.path.split(img_path)[0])[1]\n",
    "        new_img_name = E_dir + '_'+ img_name\n",
    "  \n",
    "        if i <40:\n",
    "            new_img_path = os.path.join(new_people_dir_train, new_img_name).replace('\\\\','/')\n",
    "        else:\n",
    "            new_img_path = os.path.join(new_people_dir_test, new_img_name).replace('\\\\','/')\n",
    "\n",
    "\n",
    "        shutil.copy(img_path, new_img_path)\n"
   ]
  },
  {
   "cell_type": "code",
   "execution_count": null,
   "metadata": {},
   "outputs": [],
   "source": []
  },
  {
   "cell_type": "code",
   "execution_count": null,
   "metadata": {},
   "outputs": [],
   "source": []
  }
 ],
 "metadata": {
  "kernelspec": {
   "display_name": "Python 3",
   "language": "python",
   "name": "python3"
  },
  "language_info": {
   "codemirror_mode": {
    "name": "ipython",
    "version": 3
   },
   "file_extension": ".py",
   "mimetype": "text/x-python",
   "name": "python",
   "nbconvert_exporter": "python",
   "pygments_lexer": "ipython3",
   "version": "3.7.6"
  },
  "toc": {
   "base_numbering": 1,
   "nav_menu": {},
   "number_sections": false,
   "sideBar": true,
   "skip_h1_title": false,
   "title_cell": "Table of Contents",
   "title_sidebar": "Contents",
   "toc_cell": false,
   "toc_position": {},
   "toc_section_display": true,
   "toc_window_display": false
  }
 },
 "nbformat": 4,
 "nbformat_minor": 2
}
